{
 "cells": [
  {
   "cell_type": "markdown",
   "id": "7ba3a879-f6a7-451e-b99d-74e330fca953",
   "metadata": {},
   "source": [
    "# datascience tools and ecosystem"
   ]
  },
  {
   "cell_type": "markdown",
   "id": "13f2128e-c6f9-44f4-a84b-af7b965bbcd7",
   "metadata": {},
   "source": [
    "### data science tools and ecosystem are summarised in this notebook"
   ]
  },
  {
   "cell_type": "markdown",
   "id": "f53dd363-0257-4c3f-ba5c-099922f3b9c8",
   "metadata": {},
   "source": [
    "#### Data science languages are specialized programming languages that facilitate data manipulation, analysis, and visualization to derive insights and inform decision-making."
   ]
  },
  {
   "cell_type": "markdown",
   "id": "4d90e87f-1e16-4cd1-88d9-b30820268670",
   "metadata": {},
   "source": [
    "#### some data science languages data scientists use are:"
   ]
  },
  {
   "cell_type": "markdown",
   "id": "adc500e0-1e5c-491e-b82b-5ad218249fcf",
   "metadata": {},
   "source": [
    "1. python\n",
    "2. R\n",
    "3. julia\n",
    "4. SQL\n",
    "5. c++\n",
    "6. java"
   ]
  },
  {
   "cell_type": "markdown",
   "id": "2fc5a4ac-b6b7-43be-b1c3-7b40beb7e920",
   "metadata": {},
   "source": [
    "#### data science libraries provide a wide range of pre-built functions and algorithms, enabling data scientists to focus on extracting insights and building models rather than developing foundational code"
   ]
  },
  {
   "cell_type": "markdown",
   "id": "1e3fd1b3-caeb-4875-8813-44b4e12daad5",
   "metadata": {},
   "source": [
    "#### some datascience libraries used by data scientists are:"
   ]
  },
  {
   "cell_type": "markdown",
   "id": "cc548c2b-9dfa-4461-a591-8137174649e5",
   "metadata": {},
   "source": [
    "1. pandas\n",
    "2. numpy\n",
    "3. tensorflow\n",
    "4. dplyr\n",
    "5. seaborn"
   ]
  },
  {
   "cell_type": "markdown",
   "id": "0b94e4ba-d3cc-473d-891d-1f5dd793c85b",
   "metadata": {},
   "source": [
    "#### here is a table showing some datascience tools "
   ]
  },
  {
   "cell_type": "markdown",
   "id": "8b654031-0724-4974-9a70-06e1f516066e",
   "metadata": {},
   "source": [
    "| datascience tools| \n",
    "|------------------|\n",
    " | jupyter notebook  | \n",
    " | sciPy | \n",
    " |zeppelin|\n",
    " |anaconda|\n"
   ]
  },
  {
   "cell_type": "markdown",
   "id": "fafa4968-7c22-483a-8aaf-7b3884cfd21c",
   "metadata": {},
   "source": [
    "### given below are some examples of performing arithmetic operations in python"
   ]
  },
  {
   "cell_type": "code",
   "execution_count": 25,
   "id": "8a4587d8-2bbb-4ba0-8824-55928fa4becd",
   "metadata": {
    "scrolled": true
   },
   "outputs": [
    {
     "data": {
      "text/plain": [
       "17"
      ]
     },
     "execution_count": 25,
     "metadata": {},
     "output_type": "execute_result"
    }
   ],
   "source": [
    "#example of an arithmetic expression including multiplication and addition\n",
    "(3*4)+5"
   ]
  },
  {
   "cell_type": "markdown",
   "id": "c67f79d9-448e-4c64-9b00-7786b508e04f",
   "metadata": {},
   "source": [
    "#### lets covert any given amount of minutes to hours"
   ]
  },
  {
   "cell_type": "code",
   "execution_count": 17,
   "id": "412eaaca-727f-478d-be6b-abf94b5ea362",
   "metadata": {},
   "outputs": [
    {
     "data": {
      "text/plain": [
       "3.3333333333333335"
      ]
     },
     "execution_count": 17,
     "metadata": {},
     "output_type": "execute_result"
    }
   ],
   "source": [
    "#converting 200 minuted into hours by using division\n",
    "200/60"
   ]
  },
  {
   "cell_type": "markdown",
   "id": "8e9465e2-4389-46ee-b23e-9f99789c343c",
   "metadata": {},
   "source": [
    "#### objectives of the project"
   ]
  },
  {
   "cell_type": "markdown",
   "id": "ca1a7fbc-57ef-4fad-9df5-4c5e3d18e57a",
   "metadata": {},
   "source": [
    "### **objectives**:"
   ]
  },
  {
   "cell_type": "markdown",
   "id": "2ef26b33-48f5-4efd-91dd-bae01dc70630",
   "metadata": {},
   "source": [
    "##### -create markdown cells\n",
    "##### -format contents of markdown cells\n",
    "##### -adding comments to code cell\n"
   ]
  },
  {
   "cell_type": "markdown",
   "id": "c2a3c2ba-043d-4ea2-a336-f5da1a16a2e2",
   "metadata": {},
   "source": [
    "## **author(s)**\n",
    "\n"
   ]
  },
  {
   "cell_type": "markdown",
   "id": "8e13a865-13b7-4ca1-b281-b0b97062609f",
   "metadata": {},
   "source": [
    "#### Abhi"
   ]
  },
  {
   "cell_type": "code",
   "execution_count": null,
   "id": "fd33690b-c593-4dbc-ae08-946cdd696529",
   "metadata": {},
   "outputs": [],
   "source": []
  }
 ],
 "metadata": {
  "kernelspec": {
   "display_name": "Python 3 (ipykernel)",
   "language": "python",
   "name": "python3"
  },
  "language_info": {
   "codemirror_mode": {
    "name": "ipython",
    "version": 3
   },
   "file_extension": ".py",
   "mimetype": "text/x-python",
   "name": "python",
   "nbconvert_exporter": "python",
   "pygments_lexer": "ipython3",
   "version": "3.12.4"
  }
 },
 "nbformat": 4,
 "nbformat_minor": 5
}
